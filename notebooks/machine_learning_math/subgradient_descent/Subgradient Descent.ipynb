{
 "cells": [
  {
   "cell_type": "markdown",
   "metadata": {},
   "source": [
    "<img src=\"./img/SubGradientDescent_Thumbnail2.png\" alt=\"Thumbnail of the subgradient descent article on Machine Learning Compass\" width=\"720\"/>"
   ]
  },
  {
   "cell_type": "markdown",
   "metadata": {},
   "source": [
    "# Subgradients and Subgradient Descent\n",
    "#### Last edited: 22 Aug 2021\n",
    "This is the accompanying notebook for [this](https://machinelearningcompass.com/machine_learning_math/subgradient_descent/) article of [Machine Learning Compass](https://machinelearningcompass.com). "
   ]
  },
  {
   "cell_type": "markdown",
   "metadata": {},
   "source": [
    "---"
   ]
  },
  {
   "cell_type": "markdown",
   "metadata": {},
   "source": [
    "## Imports and helper functions"
   ]
  },
  {
   "cell_type": "code",
   "execution_count": 1,
   "metadata": {},
   "outputs": [],
   "source": [
    "%matplotlib inline\n",
    "import numpy as np\n",
    "import matplotlib.pyplot as plt"
   ]
  },
  {
   "cell_type": "code",
   "execution_count": 2,
   "metadata": {},
   "outputs": [],
   "source": [
    "# from the gradient descent for linear regression article\n",
    "def create_function(theta):\n",
    "    def f(X_b):\n",
    "        return np.dot(X_b,theta)\n",
    "    \n",
    "    return f\n",
    "\n",
    "# from the gradient descent for linear regression article\n",
    "def add_intercept_ones(X):\n",
    "    intercept_ones = np.ones((len(X),1)) # results in array( [ [1],..,[1] ] )\n",
    "    X_b = np.c_[intercept_ones,X]\n",
    "    return X_b\n",
    "\n",
    "# from the standardization article\n",
    "def standardize(X_train, X_test):\n",
    "    mean = np.mean(X_train)\n",
    "    std = np.std(X_train)\n",
    "    X_train_s = (X_train - mean) / std \n",
    "    X_test_s = (X_test - mean) / std \n",
    "    return X_train_s, X_test_s, mean, std"
   ]
  },
  {
   "cell_type": "markdown",
   "metadata": {},
   "source": [
    "## The dataset"
   ]
  },
  {
   "cell_type": "markdown",
   "metadata": {},
   "source": [
    "We have a dataset of figures. For each figure, we know it's age (x) as well as it's price (y).\n",
    "The dataset looks like this:"
   ]
  },
  {
   "cell_type": "code",
   "execution_count": 3,
   "metadata": {},
   "outputs": [],
   "source": [
    "X = np.array([1.25, 1.  , 0.75, 1.5, 1.75, 1.5 , 0.75])\n",
    "y = np.array([40. , 42. , 46. , 37., 40. , 38. , 39.8])\n",
    "\n",
    "X_train, X_test = X[:4], X[4:]\n",
    "y_train, y_test = y[:4], y[4:]\n",
    "\n",
    "X_train_s, X_test_s, _, _ = standardize(X_train, X_test)"
   ]
  },
  {
   "cell_type": "code",
   "execution_count": 4,
   "metadata": {},
   "outputs": [
    {
     "data": {
      "image/png": "[encoded data removed]",
      "text/plain": [
       "<Figure size 432x288 with 1 Axes>"
      ]
     },
     "metadata": {
      "needs_background": "dark"
     },
     "output_type": "display_data"
    }
   ],
   "source": [
    "plt.scatter(X_train, y_train, label=\"train\")\n",
    "plt.scatter(X_test, y_test, label=\"test\")\n",
    "plt.xlabel(\"age (years)\")\n",
    "plt.ylabel(\"price (€)\")\n",
    "plt.title(\"Figure Prices\")\n",
    "plt.grid(color = 'white', alpha=0.5, linestyle = '--', linewidth = 0.5)\n",
    "plt.legend()\n",
    "plt.show()"
   ]
  },
  {
   "cell_type": "markdown",
   "metadata": {},
   "source": [
    "We now want to create a linear model to predict the price of previously unseen figures given their age.\n",
    "For this, we will use lasso regression.\n",
    "There is just one problem\n",
    "The L1-penalty, $||\\boldsymbol{\\theta}||_1 = \\sum_{i=1}^n{|\\theta_i|}$ is not differentiable at 0.\n",
    "But to solve our lasso model, we have to compute the gradient of our lasso loss function,\n",
    "which includes an L1-penalty. So what do we do? We use subgradients!"
   ]
  },
  {
   "cell_type": "markdown",
   "metadata": {},
   "source": [
    "## Subgradients"
   ]
  },
  {
   "cell_type": "markdown",
   "metadata": {},
   "source": [
    "Subgradients can be interpreted as \"intermediate\" vectors around regular gradients.\n",
    "A subgradient $g$ of a function $f$ at a point $x$ is exactly the regular gradient when the $f$\n",
    "is differentiable at $x$. Otherwise, a subgradient of $f$ at $x$ is defined as:\n",
    "\n",
    "$$\n",
    "\\text{A vector } g \\in \\mathbb{R}^d \\text{ is a subgradient of a function } \\\\\n",
    "f: \\mathbb{R}^d \\rightarrow \\mathbb{R} \\text{ at the point } x \\text{ if for all points } z \\text{ the following holds:} \\\\\n",
    "f(z) \\geq f(x) + g^T(z - x)\n",
    "$$\n",
    "\n",
    "There can be zero, one, or any number of subgradients of a function $f$ at a non-differentiable point $x$."
   ]
  },
  {
   "cell_type": "markdown",
   "metadata": {},
   "source": [
    "Now, instead of computing the regular gradient of our L1-penalty, which would be problematic, we instead\n",
    "compute the subgradient. The subgradient will be identic to the regular gradient at every point except 0,\n",
    "and it will be 0 at the point 0.\n",
    "In other terms, the (or rather, one valid) subgradient for the L1-penalty is:\n",
    "\n",
    "$$\n",
    "\\stackrel{sub}{\\nabla} _g(x) = \\left \\{\n",
    "  \\begin{aligned}\n",
    "    &1 && \\text{if}\\ x>0 \\\\\n",
    "    &\\color{#26a6ed}{x \\in [-1,1]} && \\color{#26a6ed}{\\text{if}\\ x=0} \\\\\n",
    "    &-1 && \\text{if}\\ x<0\n",
    "  \\end{aligned} \\right.\n",
    "$$"
   ]
  },
  {
   "cell_type": "markdown",
   "metadata": {},
   "source": [
    "Now let's implement subgradient descent!"
   ]
  },
  {
   "cell_type": "markdown",
   "metadata": {},
   "source": [
    "## Loss and gradient functions"
   ]
  },
  {
   "cell_type": "markdown",
   "metadata": {},
   "source": [
    "Before implementing subgradient descent, we'll have to implement functions that compute our loss as well as our gradient. Since these functions have parameters themselves, like `a1` or `a2`, we will use wrapper functions that take in these higher-level parameters and return functions that utilize those same parameters."
   ]
  },
  {
   "cell_type": "code",
   "execution_count": 5,
   "metadata": {},
   "outputs": [],
   "source": [
    "def get_elastic_mse_function(a2=1, a1=0):\n",
    "    \n",
    "    def elastic_mse(y, y_predicted, theta):\n",
    "        error = y-y_predicted\n",
    "        loss = 1/(y.size) * np.dot(error.T, error) + a2 * np.dot(theta,theta) + a1 * np.sum(np.abs(theta))\n",
    "        return loss\n",
    "    \n",
    "    return elastic_mse\n",
    "\n",
    "\n",
    "def get_elastic_gradient_function(a2=1, a1=0):\n",
    "    \n",
    "    def elastic_gradient(X_b, y, y_pred, theta):\n",
    "        return  -(2/y.size) * X_b.T.dot((y - y_pred)) + a1 * np.sign(theta) + 2 * a2 * theta\n",
    "\n",
    "    return elastic_gradient"
   ]
  },
  {
   "cell_type": "markdown",
   "metadata": {},
   "source": [
    "## Subgradient descent"
   ]
  },
  {
   "cell_type": "markdown",
   "metadata": {},
   "source": [
    "Now we can go ahead and implement subgradient descent. It is almost identical to regular gradient descent,\n",
    "in fact the only difference is the usage of a subgradient instead of a regular gradient."
   ]
  },
  {
   "cell_type": "code",
   "execution_count": 6,
   "metadata": {},
   "outputs": [],
   "source": [
    "def subgradient_descent(X, y, theta, criterion, subgradient_function, number_of_iterations, learning_rate):\n",
    "    X_b = add_intercept_ones(X)\n",
    "    for i in range(number_of_iterations):\n",
    "\n",
    "        # predict and calculate loss\n",
    "        f = create_function(theta) # create the current function\n",
    "        y_predicted = f(X_b) # predict our entire x\n",
    "        loss = criterion(y, y_predicted, theta) # calculate the error\n",
    "\n",
    "        # perform optimization\n",
    "        subgradient = subgradient_function(X_b, y, y_predicted, theta) # calculate gradient\n",
    "        theta = theta - learning_rate * subgradient #adjust m and b\n",
    "        \n",
    "    return theta"
   ]
  },
  {
   "cell_type": "markdown",
   "metadata": {},
   "source": [
    "Let's try it out on our dataset!"
   ]
  },
  {
   "cell_type": "code",
   "execution_count": 7,
   "metadata": {},
   "outputs": [
    {
     "name": "stdout",
     "output_type": "stream",
     "text": [
      "[40.75       -2.74229857]\n"
     ]
    }
   ],
   "source": [
    "theta = np.random.rand(2)\n",
    "number_of_iterations = 3000\n",
    "learning_rate = 0.01\n",
    "\n",
    "# important: use standardized data!\n",
    "theta_lasso_subgd = subgradient_descent(X_train_s, y_train, theta,\n",
    "                    get_elastic_mse_function(a2=0, a1=1),\n",
    "                    get_elastic_gradient_function(a2=0, a1=1),\n",
    "                    number_of_iterations, learning_rate)\n",
    "print(theta_lasso_subgd)"
   ]
  },
  {
   "cell_type": "markdown",
   "metadata": {},
   "source": [
    "Nice!"
   ]
  },
  {
   "cell_type": "markdown",
   "metadata": {},
   "source": [
    "### Comparing subgradient descent for lasso to sklearn's Lasso"
   ]
  },
  {
   "cell_type": "markdown",
   "metadata": {},
   "source": [
    "Let's compare our own implementation to the one from sklearn to make sure our code is doing what it is supposed to do"
   ]
  },
  {
   "cell_type": "code",
   "execution_count": 8,
   "metadata": {},
   "outputs": [],
   "source": [
    "from sklearn.linear_model import Lasso"
   ]
  },
  {
   "cell_type": "code",
   "execution_count": 9,
   "metadata": {},
   "outputs": [
    {
     "name": "stdout",
     "output_type": "stream",
     "text": [
      "41.25 -2.242298567374695\n"
     ]
    }
   ],
   "source": [
    "lasso_sklearn = Lasso()\n",
    "# sklearn expects X to be a 2D-array, so we expand the dimensionality of our X\n",
    "# by using numpys \"expand_dims\"-command\n",
    "# Again, use standardized data!\n",
    "lasso_sklearn.fit(np.expand_dims(X_train_s,1), y_train)\n",
    "\n",
    "print(lasso_sklearn.intercept_, lasso_sklearn.coef_[0])"
   ]
  },
  {
   "cell_type": "markdown",
   "metadata": {},
   "source": [
    "The parameters are very close to our own implementation, so that is a good sign!\n",
    "Scikit-learn uses coordinate descent instead of gradient descent, so that explains most of the fluctuations.\n",
    "\n",
    "Let's plot the two models!"
   ]
  },
  {
   "cell_type": "code",
   "execution_count": 10,
   "metadata": {},
   "outputs": [
    {
     "data": {
      "text/plain": [
       "<matplotlib.legend.Legend at 0x18b7ef2f5b0>"
      ]
     },
     "execution_count": 10,
     "metadata": {},
     "output_type": "execute_result"
    },
    {
     "data": {
      "image/png": "[encoded data removed]",
      "text/plain": [
       "<Figure size 432x288 with 1 Axes>"
      ]
     },
     "metadata": {
      "needs_background": "dark"
     },
     "output_type": "display_data"
    }
   ],
   "source": [
    "X_s = np.concatenate([X_train_s, X_test_s])\n",
    "\n",
    "X_interval = np.array([min(X_s), max(X_s)]) # we'll use these points to plot our linear functions\n",
    "\n",
    "plt.plot(X_train_s, y_train, \"s\", markersize=12, label=\"train data\")\n",
    "plt.plot(X_test_s, y_test, \".\", markersize=15, label=\"test data\")\n",
    "\n",
    "plt.plot()\n",
    "plt.plot(X_interval, add_intercept_ones(X_interval).dot(theta_lasso_subgd), label=\"lasso | subGD\")\n",
    "plt.plot(X_interval, lasso_sklearn.predict(np.expand_dims(X_interval,1)), label=\"lasso | sklearn\")\n",
    "plt.grid(color = 'white', alpha=0.5, linestyle = '--', linewidth = 0.5)\n",
    "plt.legend()"
   ]
  },
  {
   "cell_type": "markdown",
   "metadata": {},
   "source": [
    "Nice, the two models look extremely similar."
   ]
  },
  {
   "cell_type": "markdown",
   "metadata": {},
   "source": [
    "### Comparing subgradient descent for lasso to linear regression (OLS regression)"
   ]
  },
  {
   "cell_type": "markdown",
   "metadata": {},
   "source": [
    "Let's also compare our lasso implementation to regular linear regression.\n",
    "Our lasso model should have smaller model parameters because of the regularization term."
   ]
  },
  {
   "cell_type": "code",
   "execution_count": 11,
   "metadata": {},
   "outputs": [],
   "source": [
    "from sklearn.linear_model import LinearRegression"
   ]
  },
  {
   "cell_type": "code",
   "execution_count": 12,
   "metadata": {},
   "outputs": [
    {
     "name": "stdout",
     "output_type": "stream",
     "text": [
      "Lasso: [40.75       -2.74229857]\n",
      "OLS: 41.25 -3.242298567374696\n"
     ]
    }
   ],
   "source": [
    "linreg_sklearn = LinearRegression()\n",
    "# here we technically don't need to use the standardized data,\n",
    "# but since we're comparing different models it makes sense\n",
    "# to use the same dataset\n",
    "linreg_sklearn.fit(np.expand_dims(X_train_s,1), y_train)\n",
    "\n",
    "print(\"Lasso:\", theta_lasso_subgd)\n",
    "print(\"OLS:\", linreg_sklearn.intercept_, linreg_sklearn.coef_[0])"
   ]
  },
  {
   "cell_type": "markdown",
   "metadata": {},
   "source": [
    "Ok, the lasso coefficients are a bit smaller, so our model is working as intended.\n",
    "Let's plot both models again:"
   ]
  },
  {
   "cell_type": "code",
   "execution_count": 13,
   "metadata": {},
   "outputs": [
    {
     "data": {
      "text/plain": [
       "<matplotlib.legend.Legend at 0x18b3f58ec70>"
      ]
     },
     "execution_count": 13,
     "metadata": {},
     "output_type": "execute_result"
    },
    {
     "data": {
      "image/png": "[encoded data removed]",
      "text/plain": [
       "<Figure size 432x288 with 1 Axes>"
      ]
     },
     "metadata": {
      "needs_background": "dark"
     },
     "output_type": "display_data"
    }
   ],
   "source": [
    "X_interval = np.array([min(X_s), max(X_s)]) # we'll use these points to plot our linear functions\n",
    "\n",
    "plt.plot(X_train_s, y_train, \"s\", markersize=12, label=\"train data\")\n",
    "plt.plot(X_test_s, y_test, \".\", markersize=15, label=\"test data\")\n",
    "\n",
    "plt.plot()\n",
    "plt.plot(X_interval, add_intercept_ones(X_interval).dot(theta_lasso_subgd), label=\"lasso | subGD\")\n",
    "plt.plot(X_interval, linreg_sklearn.predict(np.expand_dims(X_interval,1)), label=\"OLS regression\")\n",
    "plt.grid(color = 'white', alpha=0.5, linestyle = '--', linewidth = 0.5)\n",
    "plt.legend()"
   ]
  },
  {
   "cell_type": "markdown",
   "metadata": {},
   "source": [
    "Nice! The difference in this example is not gigantic, but it is there and if we wanted to,\n",
    "we could increase it by increasing the regularization parameter $\\alpha$."
   ]
  },
  {
   "cell_type": "markdown",
   "metadata": {},
   "source": [
    "## The Fatal Flaw"
   ]
  },
  {
   "cell_type": "markdown",
   "metadata": {},
   "source": [
    "One key property of lasso is that unnecessary weights can be set all the way to zero. In other words, lasso produces sparse model parameters. To make sure our implementation fulfills this property, we can perform a simple test. We create a completely random X, a completely random y, and then we run lasso on it. Ideally, every single parameter should be set to zero because there should be no correlation between our X and our y."
   ]
  },
  {
   "cell_type": "code",
   "execution_count": 14,
   "metadata": {},
   "outputs": [],
   "source": [
    "# This supresses the scientific notation in NumPy; purely cosmetic change\n",
    "np.set_printoptions(suppress=True)"
   ]
  },
  {
   "cell_type": "code",
   "execution_count": 15,
   "metadata": {},
   "outputs": [
    {
     "name": "stdout",
     "output_type": "stream",
     "text": [
      "[ 0.00668132 -0.00466694  0.00224217 -0.00155269  0.00580806  0.0095924\n",
      "  0.0053422   0.01089025  0.00739823  0.01002445  0.0120133   0.00630027\n",
      "  0.0108833  -0.00143603 -0.00016522 -0.00030323  0.01358693  0.00100968\n",
      "  0.00842327  0.00952648 -0.00358736  0.00912549 -0.0041994   0.00157255\n",
      "  0.01443002 -0.00117496  0.00929701  0.00436955  0.01131614 -0.0024289\n",
      "  0.00678782  0.01200717 -0.00279051  0.01309249  0.00924882  0.00743903\n",
      "  0.00047473  0.00504808  0.00979024  0.01348844 -0.00101137 -0.00085064\n",
      "  0.0021025  -0.00447384  0.00635797 -0.00440868 -0.00186449 -0.0035198\n",
      "  0.0019334   0.00811814  0.00161819]\n"
     ]
    }
   ],
   "source": [
    "theta_rand = np.random.rand(51)\n",
    "X_rand = np.random.rand(100,50)\n",
    "y_rand = np.random.rand(100)\n",
    "theta_rand_lasso_subgd = subgradient_descent(X_rand, y_rand, theta_rand,\n",
    "                                     get_elastic_mse_function(a2=0, a1=1),\n",
    "                                     get_elastic_gradient_function(a2=0, a1=1),\n",
    "                                     3000, 0.01)\n",
    "print(theta_rand_lasso_subgd)"
   ]
  },
  {
   "cell_type": "markdown",
   "metadata": {},
   "source": [
    "As we see, our implementation does not zero out any of the weights. Why is this?\n",
    "The most common answer I found to this question was that this is because subgradients are approximations and thus naturally imprecise.\n",
    "However, we can debunk this question by looking at the number of times our subgradient is computed at 0 because this is the only point at which our subgradient differs from the regular gradient.\n",
    "\n",
    "If you want to try this out for yourself, take a look at the second programming exercise in [this](https://machinelearningcompass.com/machine_learning_math/subgradient_descent/) article of Machine Learning Compass. \n",
    "\n",
    "There you will see that this point is indeed never hit during subgradient descent.\n",
    "Why? This point can only be hit when the L1-penalty is 0, and the L1-penalty is only zero if all of the values of $\\boldsymbol{\\theta}$ are 0 as well. Since this very rarely ever happens, this point is not hit."
   ]
  },
  {
   "cell_type": "markdown",
   "metadata": {},
   "source": [
    "### The Fatal Flaw of...?"
   ]
  },
  {
   "cell_type": "markdown",
   "metadata": {},
   "source": [
    "So if our subgradient is not the problem, what is?\n",
    "Let's look at the evolution of our parameter vector $\\boldsymbol{\\theta}$ over time.\n",
    "\n",
    "For this we will modify our `subgradient_descent`-function to not only return the optimized $\\boldsymbol{\\theta}$ but also the value of $\\boldsymbol{\\theta}$ for every epoch. In addition,\n",
    "we will use a learning rate schedule to gradually decrease the learning rate of our algorithm in later epochs. We will use a random dataset with only two features to ease visualization."
   ]
  },
  {
   "cell_type": "code",
   "execution_count": 52,
   "metadata": {},
   "outputs": [],
   "source": [
    "def subgradient_descent(X, y, theta, criterion, subgradient_function, number_of_iterations, learning_rate):\n",
    "    X_b = add_intercept_ones(X)\n",
    "    theta_hist = []\n",
    "    for i in range(1, number_of_iterations+1):\n",
    "        if i > 20:\n",
    "            learning_rate = 1 / (4 * i)\n",
    "\n",
    "        # predict and calculate loss\n",
    "        f = create_function(theta) # create the current function\n",
    "        y_predicted = f(X_b) # predict our entire x\n",
    "        loss = criterion(y, y_predicted, theta) # calculate the error\n",
    "\n",
    "        # perform optimization\n",
    "        subgradient = subgradient_function(X_b, y, y_predicted, theta) # calculate gradient\n",
    "        theta = theta - learning_rate * subgradient #adjust m and b\n",
    "        theta_hist.append(theta)\n",
    "        \n",
    "    return theta, theta_hist"
   ]
  },
  {
   "cell_type": "markdown",
   "metadata": {},
   "source": [
    "Here's the random dataset:"
   ]
  },
  {
   "cell_type": "code",
   "execution_count": 16,
   "metadata": {},
   "outputs": [],
   "source": [
    "load_dataset = True\n",
    "if load_dataset:\n",
    "    X_rand = np.load(\"./data/X_rand.np.npy\")\n",
    "    y_rand = np.load(\"./data/y_rand.np.npy\")\n",
    "    theta_rand = np.load(\"./data/theta_rand.np.npy\")\n",
    "else:\n",
    "    np.random.seed(42)\n",
    "    theta_rand = np.random.rand(2)\n",
    "    X_rand = np.random.rand(100,1)\n",
    "    y_rand = np.random.rand(100)"
   ]
  },
  {
   "cell_type": "code",
   "execution_count": 17,
   "metadata": {},
   "outputs": [
    {
     "data": {
      "image/png": "[encoded data removed]",
      "text/plain": [
       "<Figure size 432x288 with 1 Axes>"
      ]
     },
     "metadata": {
      "needs_background": "dark"
     },
     "output_type": "display_data"
    }
   ],
   "source": [
    "plt.scatter(X_rand, y_rand)\n",
    "plt.xlabel(\"X\")\n",
    "plt.ylabel(\"y\")\n",
    "plt.title(\"Random dataset\")\n",
    "plt.grid(color = 'white', alpha=0.6, linestyle = '--', linewidth = 0.5)\n",
    "plt.show()"
   ]
  },
  {
   "cell_type": "code",
   "execution_count": 18,
   "metadata": {},
   "outputs": [],
   "source": [
    "theta_rand_optimized, theta_rand_hist = subgradient_descent(X_rand, y_rand, theta_rand,\n",
    "                                     get_elastic_mse_function(a2=0, a1=1),\n",
    "                                     get_elastic_gradient_function(a2=0, a1=1),\n",
    "                                     1000, 0.01)\n",
    "theta_rand_hist = np.array(theta_rand_hist)"
   ]
  },
  {
   "cell_type": "markdown",
   "metadata": {},
   "source": [
    "Here's the final visualization of `theta_rand_hist`:"
   ]
  },
  {
   "cell_type": "markdown",
   "metadata": {},
   "source": [
    "![Subgradient Descent Convergence](./img/subgradient_convergence.webp)"
   ]
  },
  {
   "cell_type": "markdown",
   "metadata": {},
   "source": [
    "So far this looks rather smooth, right?\n",
    "The blue x is the point (0,0),\n",
    "which should be the optimal theta for our lasso model,\n",
    "under the assumption that the dataset really does not have any meaningful correlations.\n",
    "(Sub)gradient descent seems to find this minium rather well."
   ]
  },
  {
   "cell_type": "markdown",
   "metadata": {},
   "source": [
    "Here's the code used to generate the above visualization:"
   ]
  },
  {
   "cell_type": "code",
   "execution_count": 19,
   "metadata": {},
   "outputs": [],
   "source": [
    "import matplotlib.patheffects as pe"
   ]
  },
  {
   "cell_type": "code",
   "execution_count": 20,
   "metadata": {},
   "outputs": [],
   "source": [
    "# Note: Running this cell will store a lot of files\n",
    "# to run this cell, change the above to \"if True\"\n",
    "if False:\n",
    "    for i in range(len(theta_rand_hist)):\n",
    "        if i < 100 or (i < 1000 and i % 50 == 0):\n",
    "\n",
    "            plt.contourf(w_1t, w_2t, z, levels=500)#, cmap=plt.cm.jet)\n",
    "            cont = plt.contour(w_1t, w_2t, z, levels=10, colors='white')\n",
    "            plt.clabel(cont, inline=1)\n",
    "            plt.scatter([0],[0], marker=\"x\", color=\"cyan\", s=150, zorder=100)\n",
    "            plt.plot(theta_rand_hist[:,0][:i], theta_rand_hist[:,1][:i], color=\"red\", marker=\"x\")\n",
    "            plt.annotate(\n",
    "                f\"iteration {i}\",\n",
    "                xy=(theta_rand_hist[i,0], theta_rand_hist[i,1]),\n",
    "                xytext=(theta_rand_hist[i,0], theta_rand_hist[i,1] + 0.1),\n",
    "                ha=\"center\",\n",
    "                arrowprops=dict(facecolor=\"black\", shrink=0.1),\n",
    "                color=\"white\",\n",
    "                fontsize=\"14\",\n",
    "                zorder=10000,\n",
    "                path_effects=[pe.withStroke(linewidth=2, foreground=\"black\")]\n",
    "            )\n",
    "            plt.savefig(f\"./anim/subgd_frame_{i}.png\")\n",
    "            plt.close()"
   ]
  },
  {
   "cell_type": "markdown",
   "metadata": {},
   "source": [
    "Let's zoom in a bit further to see what's really going on."
   ]
  },
  {
   "cell_type": "markdown",
   "metadata": {},
   "source": [
    "Here's the final visualization:"
   ]
  },
  {
   "cell_type": "markdown",
   "metadata": {},
   "source": [
    "![Zooming into (sub)gradient descent](./img/subgradient_descent_zoom.webp)"
   ]
  },
  {
   "cell_type": "markdown",
   "metadata": {},
   "source": [
    "As we can see, if we zoom in *reaally* strongly,\n",
    "we do see that (sub)gradient descent does indeed not find the exact optimal point (0,0),\n",
    "and instead jumps around in it's immediate neighborhood.\n",
    "After all, gradient descent is still just an approximation."
   ]
  },
  {
   "cell_type": "markdown",
   "metadata": {},
   "source": [
    "Here's the code to generate the frames for the above visualization:"
   ]
  },
  {
   "cell_type": "code",
   "execution_count": 21,
   "metadata": {},
   "outputs": [],
   "source": [
    "# Note: running this cell will store a lot of files\n",
    "# to run this cell, change the above to \"if True\"\n",
    "\n",
    "if False:\n",
    "    # this is needed to further divide the zoom transition at the very end, because the numbers get so small\n",
    "    scale_constants = [0.9, 0.5, 0.25, 0.1, 0.05, 0.01, 0.005, 0.004, 0.003, 0.002, 0.001, 0.00075, 0.0005, 0.00025]\n",
    "    num_zoom_indices = len(zoomLevelsXMin) - 1 \n",
    "    last_fixed_zoom_idx = num_zoom_indices - 1\n",
    "\n",
    "    for i in range(len(zoomLevelsXMin) + len(cs) - 1):\n",
    "\n",
    "            plt.contourf(w_1t, w_2t, z, levels=500)#, cmap=plt.cm.jet)\n",
    "            cont = plt.contour(w_1t, w_2t, z, levels=10, colors='white')\n",
    "            plt.clabel(cont, inline=1)\n",
    "            plt.scatter([0],[0], marker=\"x\", color=\"cyan\", s=150, zorder=100)\n",
    "            plt.plot(theta_rand_hist[:,0], theta_rand_hist[:,1], color=\"red\", marker=\"x\")\n",
    "\n",
    "            if i < 49:\n",
    "                plt.xlim(zoomLevelsXMin[i], zoomLevelsXMax[i])\n",
    "                plt.ylim(zoomLevelsYMin[i], zoomLevelsYMax[i])\n",
    "            else:\n",
    "                plt.xlim(zoomLevelsXMin[last_fixed_zoom_idx] * scale_constants[i - num_zoom_indices], zoomLevelsXMax[last_fixed_zoom_idx] * cs[i - num_zoom_indices])\n",
    "                plt.ylim(zoomLevelsYMin[last_fixed_zoom_idx] * scale_constants[i - num_zoom_indices], zoomLevelsYMax[last_fixed_zoom_idx] * cs[i - num_zoom_indices])\n",
    "\n",
    "            plt.savefig(f\"./anim2/subgd_frame_{i}.png\")\n",
    "            plt.close()"
   ]
  },
  {
   "cell_type": "markdown",
   "metadata": {},
   "source": [
    "## Fixing (Sub)gradient Descent for lasso"
   ]
  },
  {
   "cell_type": "markdown",
   "metadata": {},
   "source": [
    "Now that we know what causes the issue, how can we fix it?\n",
    "The fix is just as simple as it sounds.\n",
    "Take all values below a certain threshold (something like 0.001) and set them to 0.\n",
    "That's it!"
   ]
  },
  {
   "cell_type": "code",
   "execution_count": 22,
   "metadata": {},
   "outputs": [],
   "source": [
    "def subgradient_descent(X, y, theta, criterion, subgradient_function, number_of_iterations, learning_rate, eps):\n",
    "    X_b = add_intercept_ones(X)\n",
    "    for i in range(number_of_iterations):\n",
    "\n",
    "        # predict and calculate loss\n",
    "        f = create_function(theta) # create the current function\n",
    "        y_predicted = f(X_b) # predict our entire x\n",
    "        loss = criterion(y, y_predicted, theta) # calculate the error\n",
    "\n",
    "        # perform optimization\n",
    "        subgradient = np.array( subgradient_function(X_b, y, y_predicted, theta) ) # calculate gradient\n",
    "        theta = theta - learning_rate * subgradient #adjust m and b\n",
    "        \n",
    "        theta[theta < eps] = 0\n",
    "        \n",
    "    return theta"
   ]
  },
  {
   "cell_type": "code",
   "execution_count": 23,
   "metadata": {},
   "outputs": [
    {
     "name": "stdout",
     "output_type": "stream",
     "text": [
      "[0. 0.]\n"
     ]
    }
   ],
   "source": [
    "theta_rand_lasso_subgd = subgradient_descent(X_rand, y_rand, theta_rand,\n",
    "                                     get_elastic_mse_function(a2=0, a1=1),\n",
    "                                     get_elastic_gradient_function(a2=0, a1=1),\n",
    "                                     3000, 0.01, 0.01)\n",
    "print(theta_rand_lasso_subgd)"
   ]
  },
  {
   "cell_type": "markdown",
   "metadata": {},
   "source": [
    "With this we have succesfully implemented subgradient descent for lasso."
   ]
  },
  {
   "cell_type": "markdown",
   "metadata": {},
   "source": [
    "## Further reading"
   ]
  },
  {
   "cell_type": "markdown",
   "metadata": {},
   "source": [
    "Subgradient descent is only one way to solve lasso regression, and there is in fact an\n",
    "_even better_ way to solve lasso. It's called _coordinate descent_ and is extremely fast\n",
    "(convergence can often occur after just 2-3 epochs!). If you want to learn more about\n",
    "this fascinating algorithm and why it is so blazingly fast, I recommend you take a look\n",
    "at the article [Coordinate Descent Explained, Step by Step](https://machinelearningcompass.com/machine_learning_math/coordinate_descent),\n",
    "where you will learn everything you need to know about coordinate descent.\n",
    "\n",
    "Maybe you have noticed that the L1-penalty can be written both as a sum\n",
    "as well as a vector operation. This is true not only for the L1-penalty but for most\n",
    "functions in machine learning! However, one of the two is _clearly_ better than the other\n",
    "when it comes to performance. If you want to know which of the two variants you should prefer\n",
    "when implementing machine learning models, as well as why you should do so,\n",
    "check out the article [Vectorization Explained, Step by Step](https://machinelearningcompass.com/machine_learning_math/vectorization)."
   ]
  },
  {
   "cell_type": "markdown",
   "metadata": {},
   "source": [
    "## Practice Material"
   ]
  },
  {
   "cell_type": "markdown",
   "metadata": {},
   "source": [
    "If you're interested in reinforcing your understanding of this topic, check out the practice material over on [Machine Learning Compass](https://machinelearningcompass.com/machine_learning_math/subgradient_descent#reinforcementDiv)."
   ]
  }
 ],
 "metadata": {
  "kernelspec": {
   "display_name": "Python 3",
   "language": "python",
   "name": "python3"
  },
  "language_info": {
   "codemirror_mode": {
    "name": "ipython",
    "version": 3
   },
   "file_extension": ".py",
   "mimetype": "text/x-python",
   "name": "python",
   "nbconvert_exporter": "python",
   "pygments_lexer": "ipython3",
   "version": "3.8.5"
  }
 },
 "nbformat": 4,
 "nbformat_minor": 4
}
